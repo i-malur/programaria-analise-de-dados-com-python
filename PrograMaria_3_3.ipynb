{
  "nbformat": 4,
  "nbformat_minor": 0,
  "metadata": {
    "colab": {
      "provenance": [],
      "authorship_tag": "ABX9TyMgZDRfEXVy94+rtWtbRd5s",
      "include_colab_link": true
    },
    "kernelspec": {
      "name": "python3",
      "display_name": "Python 3"
    },
    "language_info": {
      "name": "python"
    }
  },
  "cells": [
    {
      "cell_type": "markdown",
      "metadata": {
        "id": "view-in-github",
        "colab_type": "text"
      },
      "source": [
        "<a href=\"https://colab.research.google.com/github/i-malur/programaria-analise-de-dados-com-python/blob/main/PrograMaria_3_3.ipynb\" target=\"_parent\"><img src=\"https://colab.research.google.com/assets/colab-badge.svg\" alt=\"Open In Colab\"/></a>"
      ]
    },
    {
      "cell_type": "markdown",
      "source": [
        "Aula PrograMaria 3.3"
      ],
      "metadata": {
        "id": "-PZKkJSxZNcC"
      }
    },
    {
      "cell_type": "code",
      "execution_count": null,
      "metadata": {
        "colab": {
          "base_uri": "https://localhost:8080/"
        },
        "id": "EW1THCHIY4cf",
        "outputId": "a934a11f-4047-4e1f-c00c-571473538dd5"
      },
      "outputs": [
        {
          "output_type": "stream",
          "name": "stdout",
          "text": [
            "ola mundo\n"
          ]
        }
      ],
      "source": [
        "print(\"ola mundo\")\n"
      ]
    },
    {
      "cell_type": "markdown",
      "source": [
        "Soma ingredientes"
      ],
      "metadata": {
        "id": "JusXEu_EZqu_"
      }
    },
    {
      "cell_type": "code",
      "source": [
        "# Imports\n",
        "import sys"
      ],
      "metadata": {
        "id": "b7NQMnJtZvqA"
      },
      "execution_count": null,
      "outputs": []
    },
    {
      "cell_type": "code",
      "source": [
        "# Variáveis\n",
        "precoCenoura = 5.5\n",
        "precoOleo = 12\n",
        "precoFermento = 15\n",
        "precoLeite = 5\n",
        "precoAcucar = 6\n",
        "precoOvos = 20\n"
      ],
      "metadata": {
        "id": "vQd-5XSDZ6Fr"
      },
      "execution_count": null,
      "outputs": []
    },
    {
      "cell_type": "code",
      "source": [
        "# Função\n",
        "def somaIngredientes(temCenoura,  temAcucar, temOvos, temOleo, temFermento, temLeite):\n",
        "  totalCompras = 0\n",
        "  if temCenoura:\n",
        "      totalCompras = totalCompras + precoCenoura\n",
        "  if temAcucar:\n",
        "      totalCompras = totalCompras + precoAcucar\n",
        "  if temOvos:\n",
        "      totalCompras = totalCompras + precoOvos\n",
        "  if temOleo:\n",
        "      totalCompras = totalCompras + precoOleo\n",
        "  if temFermento:\n",
        "      totalCompras = totalCompras + precoFermento\n",
        "  if temLeite:\n",
        "      totalCompras = totalCompras + precoLeite\n",
        "  return totalCompras\n"
      ],
      "metadata": {
        "id": "GoDuTH4gZ-H_"
      },
      "execution_count": null,
      "outputs": []
    },
    {
      "cell_type": "code",
      "source": [
        "# Função\n",
        "\n",
        "terminalTemCenoura = True\n",
        "terminalTemAcucar = True\n",
        "terminalTemOvos = True\n",
        "terminalTemOleo = True\n",
        "terminalTemFermento = True\n",
        "terminalTemLeite = True\n",
        "\n",
        "total = somaIngredientes(terminalTemCenoura, terminalTemAcucar, terminalTemOvos, terminalTemOleo, terminalTemFermento, terminalTemLeite)\n",
        "print(\"Total dos ingredientes R$ \", total)"
      ],
      "metadata": {
        "colab": {
          "base_uri": "https://localhost:8080/"
        },
        "id": "YwvMbIrKaCPF",
        "outputId": "a9df2bdb-8701-40d6-b12b-7bd5425b1437"
      },
      "execution_count": null,
      "outputs": [
        {
          "output_type": "stream",
          "name": "stdout",
          "text": [
            "Total dos ingredientes R$  63.5\n"
          ]
        }
      ]
    }
  ]
}